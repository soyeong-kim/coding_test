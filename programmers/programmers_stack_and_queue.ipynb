{
 "cells": [
  {
   "cell_type": "markdown",
   "id": "22d0e195",
   "metadata": {},
   "source": [
    "# 스택/큐\n",
    "- LIFO, FIFO, push & pop! 스택과 큐를 이용해서 문제를 풀어보세요."
   ]
  },
  {
   "cell_type": "markdown",
   "id": "17bed419",
   "metadata": {},
   "source": [
    "### 같은 숫자는 싫어"
   ]
  },
  {
   "cell_type": "markdown",
   "id": "c2378432",
   "metadata": {},
   "source": [
    "```python\n",
    "# 예시1\n",
    "arr = [1,1,3,3,0,1,1]\n",
    "answer = [1,3,0,1]\n",
    "\n",
    "# 예시2\n",
    "arr = [4,4,4,3,3]\n",
    "answer = [4,3]\n",
    "```"
   ]
  },
  {
   "cell_type": "markdown",
   "id": "8be7a97d",
   "metadata": {},
   "source": [
    "#### 나의 풀이"
   ]
  },
  {
   "cell_type": "code",
   "execution_count": 1,
   "id": "3139c71e",
   "metadata": {},
   "outputs": [],
   "source": [
    "def solution(arr):\n",
    "    answer = [arr[0]]\n",
    "    for i in range(len(arr)-1):\n",
    "        if arr[i] != arr[i + 1]:\n",
    "            answer.append(arr[i+1])\n",
    "\n",
    "    return answer"
   ]
  },
  {
   "cell_type": "code",
   "execution_count": 2,
   "id": "141d6331",
   "metadata": {},
   "outputs": [
    {
     "data": {
      "text/plain": [
       "[1, 3, 0, 1]"
      ]
     },
     "execution_count": 2,
     "metadata": {},
     "output_type": "execute_result"
    }
   ],
   "source": [
    "arr = [1,1,3,3,0,1,1]\n",
    "solution(arr)"
   ]
  },
  {
   "cell_type": "markdown",
   "id": "ae536189",
   "metadata": {},
   "source": [
    "#### 다른 사람의 풀이 - 1"
   ]
  },
  {
   "cell_type": "code",
   "execution_count": 3,
   "id": "c54c29d1",
   "metadata": {},
   "outputs": [],
   "source": [
    "def solution(arr):\n",
    "    answer = []\n",
    "    for a in arr:\n",
    "        if len(answer) == 0 or answer[-1] != a:\n",
    "            answer.append(a)\n",
    "\n",
    "    return answer"
   ]
  },
  {
   "cell_type": "code",
   "execution_count": 4,
   "id": "c5a5d785",
   "metadata": {},
   "outputs": [
    {
     "data": {
      "text/plain": [
       "[1, 3, 0, 1]"
      ]
     },
     "execution_count": 4,
     "metadata": {},
     "output_type": "execute_result"
    }
   ],
   "source": [
    "arr = [1,1,3,3,0,1,1]\n",
    "solution(arr)"
   ]
  },
  {
   "cell_type": "markdown",
   "id": "e219d81d",
   "metadata": {},
   "source": [
    "### 기능개발"
   ]
  },
  {
   "cell_type": "markdown",
   "id": "569736ee",
   "metadata": {},
   "source": [
    "```python\n",
    "# 예제1\n",
    "progresses = [93, 30, 55]\n",
    "speeds = [1, 30, 5]\n",
    "answer = [2, 1]\n",
    "\n",
    "# 예제2\n",
    "progresses = [95, 90, 99, 99, 80, 99]\n",
    "speeds = [1, 1, 1, 1, 1, 1]\n",
    "answer = [1, 3, 2]\n",
    "```"
   ]
  },
  {
   "cell_type": "markdown",
   "id": "e48c908e",
   "metadata": {},
   "source": [
    "#### 나의 풀이"
   ]
  },
  {
   "cell_type": "code",
   "execution_count": 5,
   "id": "7bb59d06",
   "metadata": {},
   "outputs": [],
   "source": [
    "def solution(progresses, speeds):\n",
    "    answer = []\n",
    "\n",
    "    if (100 - progresses[0]) % speeds[0] != 0:\n",
    "        x = ((100 - progresses[0]) // speeds[0]) + 1\n",
    "    else:\n",
    "        x = (100 - progresses[0]) / speeds[0]\n",
    "    y = 1\n",
    "\n",
    "    for progresse, speed in zip(progresses[1:], speeds[1:]):\n",
    "        if (100 - progresse) % speed != 0:\n",
    "            s = ((100 - progresse) // speed) + 1\n",
    "        else:\n",
    "            s = (100 - progresse) / speed\n",
    "        if x >= s:\n",
    "            y += 1\n",
    "        else:\n",
    "            answer.append(y)\n",
    "            x = s\n",
    "            y = 1\n",
    "    answer.append(y)\n",
    "    \n",
    "    return answer"
   ]
  },
  {
   "cell_type": "code",
   "execution_count": 6,
   "id": "960451f1",
   "metadata": {
    "scrolled": true
   },
   "outputs": [
    {
     "data": {
      "text/plain": [
       "[2, 1]"
      ]
     },
     "execution_count": 6,
     "metadata": {},
     "output_type": "execute_result"
    }
   ],
   "source": [
    "progresses = [93, 30, 55]\n",
    "speeds = [1, 30, 5]\n",
    "solution(progresses, speeds)"
   ]
  },
  {
   "cell_type": "markdown",
   "id": "ce2819db",
   "metadata": {},
   "source": [
    "#### 다른 사람의 풀이 - 1"
   ]
  },
  {
   "cell_type": "code",
   "execution_count": 7,
   "id": "3a11a66a",
   "metadata": {},
   "outputs": [],
   "source": [
    "def solution(progresses, speeds):\n",
    "    Q = []\n",
    "    \n",
    "    for p, s in zip(progresses, speeds):\n",
    "        if len(Q) == 0 or Q[-1][0] < -((p-100)//s):\n",
    "            Q.append([-((p-100)//s), 1])\n",
    "        else:\n",
    "            Q[-1][1] += 1\n",
    "    \n",
    "    return [q[1] for q in Q]"
   ]
  },
  {
   "cell_type": "code",
   "execution_count": 8,
   "id": "eb581373",
   "metadata": {},
   "outputs": [
    {
     "data": {
      "text/plain": [
       "[2, 1]"
      ]
     },
     "execution_count": 8,
     "metadata": {},
     "output_type": "execute_result"
    }
   ],
   "source": [
    "progresses = [93, 30, 55]\n",
    "speeds = [1, 30, 5]\n",
    "solution(progresses, speeds)"
   ]
  },
  {
   "cell_type": "markdown",
   "id": "aa1c36bb",
   "metadata": {},
   "source": [
    "### 올바른 괄호"
   ]
  },
  {
   "cell_type": "markdown",
   "id": "799a15b1",
   "metadata": {},
   "source": [
    "```python\n",
    "# 예제1\n",
    "s = \"()()\"\n",
    "answer = true\n",
    "\n",
    "# 예제2\n",
    "s = \"(())()\"\n",
    "answer = true\n",
    "\n",
    "# 예제3\n",
    "s = \")()(\"\n",
    "answer = false\n",
    "\n",
    "# 예제4\n",
    "s = \"(()(\"\n",
    "answer = false\n",
    "```"
   ]
  },
  {
   "cell_type": "markdown",
   "id": "61899fa7",
   "metadata": {},
   "source": [
    "#### 나의 풀이"
   ]
  },
  {
   "cell_type": "code",
   "execution_count": 9,
   "id": "a902c7ed",
   "metadata": {},
   "outputs": [],
   "source": [
    "def solution(s):\n",
    "    stack = []\n",
    "    \n",
    "    for i in s:\n",
    "        if i == '(':\n",
    "            stack.append(i)\n",
    "        else:\n",
    "            if stack == []:\n",
    "                return False\n",
    "            else:\n",
    "                stack.pop() # 마지막 요소 리턴\n",
    "    \n",
    "    if stack != []:\n",
    "        return False            \n",
    "    \n",
    "    return True"
   ]
  },
  {
   "cell_type": "code",
   "execution_count": 10,
   "id": "b8b0f1e4",
   "metadata": {},
   "outputs": [
    {
     "data": {
      "text/plain": [
       "True"
      ]
     },
     "execution_count": 10,
     "metadata": {},
     "output_type": "execute_result"
    }
   ],
   "source": [
    "s = \"()()\"\n",
    "solution(s)"
   ]
  },
  {
   "cell_type": "markdown",
   "id": "a19b32b0",
   "metadata": {},
   "source": [
    "#### 다른 사람의 풀이 - 1"
   ]
  },
  {
   "cell_type": "code",
   "execution_count": 11,
   "id": "be2f564c",
   "metadata": {},
   "outputs": [],
   "source": [
    "def solution(s):\n",
    "    temp = 0\n",
    "    for i in s:\n",
    "        if i == '(':\n",
    "            temp += 1\n",
    "        elif i == ')':\n",
    "            temp -= 1\n",
    "        if temp < 0:\n",
    "            return False\n",
    "    return temp == 0"
   ]
  },
  {
   "cell_type": "code",
   "execution_count": 12,
   "id": "38cdf19d",
   "metadata": {},
   "outputs": [
    {
     "data": {
      "text/plain": [
       "True"
      ]
     },
     "execution_count": 12,
     "metadata": {},
     "output_type": "execute_result"
    }
   ],
   "source": [
    "s = \"()()\"\n",
    "solution(s)"
   ]
  },
  {
   "cell_type": "markdown",
   "id": "c524197a",
   "metadata": {},
   "source": [
    "### 프로세스"
   ]
  },
  {
   "cell_type": "markdown",
   "id": "a0d48304",
   "metadata": {},
   "source": [
    "```python\n",
    "# 예제1\n",
    "priorities = [2, 1, 3, 2]\n",
    "location = 2\n",
    "answer = 1\n",
    "\n",
    "# 예제2\n",
    "priorities = [1, 1, 9, 1, 1, 1]\n",
    "location = 0\n",
    "answer = 5\n",
    "```"
   ]
  },
  {
   "cell_type": "markdown",
   "id": "5bc1f0f2",
   "metadata": {},
   "source": [
    "#### 나의 풀이"
   ]
  },
  {
   "cell_type": "code",
   "execution_count": 13,
   "id": "ffcadc60",
   "metadata": {},
   "outputs": [],
   "source": [
    "def solution(priorities, location):\n",
    "    answer = 0\n",
    "    queue = [(i, p) for i, p in enumerate(priorities)]\n",
    "\n",
    "    while True:\n",
    "        cur = queue.pop(0)\n",
    "        if any(cur[1] < q[1] for q in queue):\n",
    "            queue.append(cur)\n",
    "        else:\n",
    "            answer += 1\n",
    "            if cur[0] == location:\n",
    "                return answer"
   ]
  },
  {
   "cell_type": "code",
   "execution_count": 14,
   "id": "20003888",
   "metadata": {},
   "outputs": [
    {
     "data": {
      "text/plain": [
       "1"
      ]
     },
     "execution_count": 14,
     "metadata": {},
     "output_type": "execute_result"
    }
   ],
   "source": [
    "priorities = [2, 1, 3, 2]\n",
    "location = 2\n",
    "solution(priorities, location)"
   ]
  },
  {
   "cell_type": "markdown",
   "id": "3c98af54",
   "metadata": {},
   "source": [
    "### 다리를 지나는 트럭"
   ]
  },
  {
   "cell_type": "markdown",
   "id": "b11fe072",
   "metadata": {},
   "source": [
    "```python\n",
    "# 예제1\n",
    "bridge_length = 2\n",
    "weight = 10\n",
    "truck_weights = [7,4,5,6]\n",
    "answer = 8\n",
    "\n",
    "# 예제2\n",
    "bridge_length = 100\n",
    "weight = 100\n",
    "truck_weights = [10]\n",
    "answer = 101\n",
    "\n",
    "# 예제3\n",
    "bridge_length = 100\n",
    "weight = 100\n",
    "truck_weights = [10,10,10,10,10,10,10,10,10,10]\n",
    "answer = 110\n",
    "```"
   ]
  },
  {
   "cell_type": "markdown",
   "id": "1bf18df1",
   "metadata": {},
   "source": [
    "#### 나의 풀이"
   ]
  },
  {
   "cell_type": "code",
   "execution_count": 15,
   "id": "72bbc76c",
   "metadata": {},
   "outputs": [],
   "source": [
    "from collections import deque\n",
    "\n",
    "def solution(bridge_length, weight, truck_weights):\n",
    "    answer = 0\n",
    "    current_weight = 0\n",
    "    bridge = deque([0] * bridge_length) # 다리 길이 설정\n",
    "\n",
    "    while bridge:\n",
    "        answer += 1\n",
    "        current_weight -= bridge.popleft()\n",
    "\n",
    "        if truck_weights:\n",
    "            if current_weight + truck_weights[0] <= weight:\n",
    "                t = truck_weights.pop(0)\n",
    "                bridge.append(t)\n",
    "                current_weight += t\n",
    "            else:\n",
    "                bridge.append(0)\n",
    "\n",
    "    return answer"
   ]
  },
  {
   "cell_type": "code",
   "execution_count": 16,
   "id": "23c8f604",
   "metadata": {},
   "outputs": [
    {
     "data": {
      "text/plain": [
       "8"
      ]
     },
     "execution_count": 16,
     "metadata": {},
     "output_type": "execute_result"
    }
   ],
   "source": [
    "bridge_length = 2\n",
    "weight = 10\n",
    "truck_weights = [7,4,5,6]\n",
    "solution(bridge_length, weight, truck_weights)"
   ]
  },
  {
   "cell_type": "markdown",
   "id": "1be889b7",
   "metadata": {},
   "source": [
    "### 주식가격"
   ]
  },
  {
   "cell_type": "markdown",
   "id": "09465795",
   "metadata": {},
   "source": [
    "```python\n",
    "# 예제1\n",
    "prices = [1, 2, 3, 2, 3]\n",
    "answer = [4, 3, 1, 1, 0]\n",
    "```"
   ]
  },
  {
   "cell_type": "markdown",
   "id": "7aa9dad7",
   "metadata": {},
   "source": [
    "#### 나의 풀이"
   ]
  },
  {
   "cell_type": "code",
   "execution_count": 17,
   "id": "bad36778",
   "metadata": {},
   "outputs": [],
   "source": [
    "def solution(prices):\n",
    "    answer = []\n",
    "    for i, price in enumerate(prices):\n",
    "        time = 0\n",
    "        for j in range(i+1, len(prices)):\n",
    "            if price <= prices[j]:\n",
    "                time += 1\n",
    "            else:\n",
    "                time += 1\n",
    "                break\n",
    "        answer.append(time)\n",
    "    return answer"
   ]
  },
  {
   "cell_type": "code",
   "execution_count": 18,
   "id": "fd4df908",
   "metadata": {},
   "outputs": [
    {
     "data": {
      "text/plain": [
       "[4, 3, 1, 1, 0]"
      ]
     },
     "execution_count": 18,
     "metadata": {},
     "output_type": "execute_result"
    }
   ],
   "source": [
    "prices = [1, 2, 3, 2, 3]\n",
    "solution(prices)"
   ]
  },
  {
   "cell_type": "markdown",
   "id": "afc08977",
   "metadata": {},
   "source": [
    "#### 다른 사람의 풀이 - 1"
   ]
  },
  {
   "cell_type": "code",
   "execution_count": 19,
   "id": "b1fd3f05",
   "metadata": {},
   "outputs": [],
   "source": [
    "def solution(prices):\n",
    "    stack = []\n",
    "    answer = [0] * len(prices)\n",
    "    for i in range(len(prices)):\n",
    "        if stack != []:\n",
    "            while stack != [] and stack[-1][1] > prices[i]:\n",
    "                past, _ = stack.pop()\n",
    "                answer[past] = i - past\n",
    "        stack.append([i, prices[i]])\n",
    "    for i, s in stack:\n",
    "        answer[i] = len(prices) - 1 - i\n",
    "    return answer"
   ]
  },
  {
   "cell_type": "code",
   "execution_count": 20,
   "id": "6080c7bf",
   "metadata": {},
   "outputs": [
    {
     "data": {
      "text/plain": [
       "[4, 3, 1, 1, 0]"
      ]
     },
     "execution_count": 20,
     "metadata": {},
     "output_type": "execute_result"
    }
   ],
   "source": [
    "prices = [1, 2, 3, 2, 3]\n",
    "solution(prices)"
   ]
  }
 ],
 "metadata": {
  "kernelspec": {
   "display_name": "Python 3",
   "language": "python",
   "name": "python3"
  },
  "language_info": {
   "codemirror_mode": {
    "name": "ipython",
    "version": 3
   },
   "file_extension": ".py",
   "mimetype": "text/x-python",
   "name": "python",
   "nbconvert_exporter": "python",
   "pygments_lexer": "ipython3",
   "version": "3.8.8"
  }
 },
 "nbformat": 4,
 "nbformat_minor": 5
}
