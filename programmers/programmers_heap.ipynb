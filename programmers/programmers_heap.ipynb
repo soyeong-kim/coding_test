{
 "cells": [
  {
   "cell_type": "markdown",
   "id": "e31a3591",
   "metadata": {},
   "source": [
    "# 힙(Heap)\n",
    "- 힙은 특정한 규칙을 가지는 트리로, 힙을 이용해서 우선순위 큐를 구현할 수 있습니다.\n",
    "\n",
    "```python\n",
    "import heapq\n",
    "\n",
    "heapq.heapify(list) # 기존의 리스트를 오름차순 heapq로 변환\n",
    "\n",
    "heapq.heappop(list) # 리스트의 가장 작은 값을 리턴하며 삭제\n",
    "\n",
    "heapq.heappush(list, value) # 리스트의 value를 삽입하고, 자동 정렬\n",
    "```"
   ]
  },
  {
   "cell_type": "markdown",
   "id": "70e95d23",
   "metadata": {},
   "source": [
    "### 더 맵게"
   ]
  },
  {
   "cell_type": "markdown",
   "id": "0b32d439",
   "metadata": {},
   "source": [
    "```python\n",
    "# 예시1\n",
    "scoville = [1, 2, 3, 9, 10, 12]\n",
    "K = 7\n",
    "answer = 2\n",
    "```"
   ]
  },
  {
   "cell_type": "markdown",
   "id": "b6243e3f",
   "metadata": {},
   "source": [
    "#### 나의 풀이"
   ]
  },
  {
   "cell_type": "code",
   "execution_count": 1,
   "id": "9dd5e203",
   "metadata": {},
   "outputs": [],
   "source": [
    "import heapq\n",
    "\n",
    "def solution(scoville, K):\n",
    "    answer = 0\n",
    "    heapq.heapify(scoville)\n",
    "\n",
    "    while scoville[0] < K:\n",
    "        if len(scoville)>1:\n",
    "            answer += 1\n",
    "            first = heapq.heappop(scoville)\n",
    "            second = heapq.heappop(scoville)\n",
    "            heapq.heappush(scoville, first + second *2)\n",
    "        else:\n",
    "            return -1\n",
    "    return answer"
   ]
  },
  {
   "cell_type": "code",
   "execution_count": 2,
   "id": "9415294b",
   "metadata": {},
   "outputs": [
    {
     "data": {
      "text/plain": [
       "2"
      ]
     },
     "execution_count": 2,
     "metadata": {},
     "output_type": "execute_result"
    }
   ],
   "source": [
    "scoville = [1, 2, 3, 9, 10, 12]\n",
    "K = 7\n",
    "\n",
    "solution(scoville, K)"
   ]
  },
  {
   "cell_type": "markdown",
   "id": "4c0c43da",
   "metadata": {},
   "source": [
    "### 디스크 컨트롤러"
   ]
  },
  {
   "cell_type": "markdown",
   "id": "7e93c499",
   "metadata": {},
   "source": [
    "```python\n",
    "# 예시1\n",
    "jobs = [[0, 3], [1, 9], [2, 6]]\n",
    "answer = 9\n",
    "```"
   ]
  },
  {
   "cell_type": "markdown",
   "id": "b9545a38",
   "metadata": {},
   "source": [
    "#### 나의 풀이"
   ]
  },
  {
   "cell_type": "code",
   "execution_count": 3,
   "id": "624308cc",
   "metadata": {},
   "outputs": [],
   "source": [
    "import heapq\n",
    "\n",
    "def solution(jobs):\n",
    "    answer, now, i = 0, 0, 0\n",
    "    start = -1\n",
    "    heap = []\n",
    "\n",
    "    while i < len(jobs):\n",
    "        # 현재 시점에서 처리할 수 있는 작업: heap에 저장\n",
    "        for j in jobs:\n",
    "            if start < j[0] <= now:\n",
    "                heapq.heappush(heap, [j[1], j[0]])\n",
    "        \n",
    "        if len(heap) > 0: # 처리할 수 있는 작업이 있는 경우\n",
    "            cur = heapq.heappop(heap)\n",
    "            start = now\n",
    "            now += cur[0]\n",
    "            answer += (now - cur[1])\n",
    "            i += 1\n",
    "        else: # 처리할 수 있는 작업이 없는 경우\n",
    "            now += 1\n",
    "    \n",
    "    return int(answer / len(jobs))"
   ]
  },
  {
   "cell_type": "code",
   "execution_count": 4,
   "id": "e4de9bb3",
   "metadata": {},
   "outputs": [
    {
     "data": {
      "text/plain": [
       "9"
      ]
     },
     "execution_count": 4,
     "metadata": {},
     "output_type": "execute_result"
    }
   ],
   "source": [
    "jobs = [[0, 3], [1, 9], [2, 6]]\n",
    "\n",
    "solution(jobs)"
   ]
  },
  {
   "cell_type": "markdown",
   "id": "2a2879e9",
   "metadata": {},
   "source": [
    "### 이중우선순위큐"
   ]
  },
  {
   "cell_type": "markdown",
   "id": "b90131c6",
   "metadata": {},
   "source": [
    "```python\n",
    "# 예시1\n",
    "operations = [\"I 16\", \"I -5643\", \"D -1\", \"D 1\", \"D 1\", \"I 123\", \"D -1\"]\n",
    "answer = [0,0]\n",
    "\n",
    "# 예시2\n",
    "operations = [\"I -45\", \"I 653\", \"D 1\", \"I -642\", \"I 45\", \"I 97\", \"D 1\", \"D -1\", \"I 333\"]\n",
    "answer = [333, -45]\n",
    "```"
   ]
  },
  {
   "cell_type": "markdown",
   "id": "78e64585",
   "metadata": {},
   "source": [
    "#### 나의 풀이"
   ]
  },
  {
   "cell_type": "code",
   "execution_count": 5,
   "id": "b8a462f5",
   "metadata": {},
   "outputs": [],
   "source": [
    "def solution(operations):\n",
    "    q = []\n",
    "    for operation in operations:\n",
    "        try:\n",
    "            if 'I' == operation[:1]:\n",
    "                q.append(int(operation.split()[1]))\n",
    "            elif 'D 1' == operation:\n",
    "                q.remove(max(q)) # 최댓값 삭제\n",
    "            elif 'D -1' == operation:\n",
    "                q.remove(min(q)) # 최솟값 삭제\n",
    "        except:\n",
    "            pass\n",
    "\n",
    "    if q == []:\n",
    "        return [0, 0]\n",
    "    else:\n",
    "        return [max(q), min(q)]"
   ]
  },
  {
   "cell_type": "code",
   "execution_count": 6,
   "id": "e85d81c7",
   "metadata": {},
   "outputs": [
    {
     "data": {
      "text/plain": [
       "[0, 0]"
      ]
     },
     "execution_count": 6,
     "metadata": {},
     "output_type": "execute_result"
    }
   ],
   "source": [
    "operations = [\"I 16\", \"I -5643\", \"D -1\", \"D 1\", \"D 1\", \"I 123\", \"D -1\"]\n",
    "\n",
    "solution(operations)"
   ]
  },
  {
   "cell_type": "markdown",
   "id": "d94cfa2e",
   "metadata": {},
   "source": [
    "#### 다른 사람의 풀이 - 1"
   ]
  },
  {
   "cell_type": "code",
   "execution_count": 7,
   "id": "83adabe8",
   "metadata": {},
   "outputs": [],
   "source": [
    "import heapq\n",
    "\n",
    "def solution(operations):\n",
    "    q = []\n",
    "    for op in operations:\n",
    "        if op == 'D 1':\n",
    "            if q: q.pop() # 최댓값 삭제\n",
    "        elif op == 'D -1':\n",
    "            if q: heapq.heappop(q) # 최솟값 삭제\n",
    "        else:\n",
    "            num = int(op.split()[-1])\n",
    "            heapq.heappush(q, num)\n",
    "            q.sort() # 정렬\n",
    "\n",
    "    if q:\n",
    "        return [q[-1], q[0]] # [최댓값, 최솟값]\n",
    "    else:\n",
    "        return [0, 0]"
   ]
  },
  {
   "cell_type": "code",
   "execution_count": 8,
   "id": "2ad8bf61",
   "metadata": {},
   "outputs": [
    {
     "data": {
      "text/plain": [
       "[0, 0]"
      ]
     },
     "execution_count": 8,
     "metadata": {},
     "output_type": "execute_result"
    }
   ],
   "source": [
    "operations = [\"I 16\", \"I -5643\", \"D -1\", \"D 1\", \"D 1\", \"I 123\", \"D -1\"]\n",
    "\n",
    "solution(operations)"
   ]
  }
 ],
 "metadata": {
  "kernelspec": {
   "display_name": "Python 3",
   "language": "python",
   "name": "python3"
  },
  "language_info": {
   "codemirror_mode": {
    "name": "ipython",
    "version": 3
   },
   "file_extension": ".py",
   "mimetype": "text/x-python",
   "name": "python",
   "nbconvert_exporter": "python",
   "pygments_lexer": "ipython3",
   "version": "3.8.8"
  }
 },
 "nbformat": 4,
 "nbformat_minor": 5
}
