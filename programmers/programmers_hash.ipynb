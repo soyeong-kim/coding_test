{
 "cells": [
  {
   "cell_type": "markdown",
   "id": "d93f16e3",
   "metadata": {},
   "source": [
    "# 해시\n",
    "- Key-value쌍으로 데이터를 빠르게 찾아보세요."
   ]
  },
  {
   "cell_type": "markdown",
   "id": "d9ff9070",
   "metadata": {},
   "source": [
    "### 폰켓몬"
   ]
  },
  {
   "cell_type": "markdown",
   "id": "be7fce3e",
   "metadata": {},
   "source": [
    "```python\n",
    "# 예시1\n",
    "nums = [3,1,2,3]\n",
    "answer = 2\n",
    "\n",
    "# 예시2\n",
    "nums = [3,3,3,2,2,4]\n",
    "answer = 3\n",
    "\n",
    "# 예시3\n",
    "nums = [3,3,3,2,2,2]\n",
    "answer = 2\n",
    "```"
   ]
  },
  {
   "cell_type": "markdown",
   "id": "f874d1e0",
   "metadata": {},
   "source": [
    "#### 나의 풀이"
   ]
  },
  {
   "cell_type": "code",
   "execution_count": 1,
   "id": "6f458ab4",
   "metadata": {},
   "outputs": [],
   "source": [
    "def solution(nums):\n",
    "    choose = int(len(nums) / 2)\n",
    "    cnt = len(set(nums))\n",
    "    \n",
    "    return min(choose, cnt)"
   ]
  },
  {
   "cell_type": "code",
   "execution_count": 2,
   "id": "1b835f3f",
   "metadata": {},
   "outputs": [
    {
     "data": {
      "text/plain": [
       "2"
      ]
     },
     "execution_count": 2,
     "metadata": {},
     "output_type": "execute_result"
    }
   ],
   "source": [
    "nums = [3,1,2,3]\n",
    "\n",
    "solution(nums)"
   ]
  },
  {
   "cell_type": "markdown",
   "id": "4f9c050d",
   "metadata": {},
   "source": [
    "### 완주하지 못한 선수"
   ]
  },
  {
   "cell_type": "markdown",
   "id": "eb9529f2",
   "metadata": {},
   "source": [
    "```python\n",
    "# 예시1\n",
    "participant = [\"leo\", \"kiki\", \"eden\"]\n",
    "completion = [\"eden\", \"kiki\"]\n",
    "answer = \"leo\"\n",
    "\n",
    "# 예시2\n",
    "participant = [\"marina\", \"josipa\", \"nikola\", \"vinko\", \"filipa\"]\n",
    "completion = [\"josipa\", \"filipa\", \"marina\", \"nikola\"]\n",
    "answer = \"vinko\"\n",
    "\n",
    "# 예시3\n",
    "participant = [\"mislav\", \"stanko\", \"mislav\", \"ana\"]\n",
    "completion = [\"stanko\", \"ana\", \"mislav\"]\n",
    "answer = \"mislav\"\n",
    "```"
   ]
  },
  {
   "cell_type": "markdown",
   "id": "344c721f",
   "metadata": {},
   "source": [
    "#### 나의 풀이"
   ]
  },
  {
   "cell_type": "code",
   "execution_count": 3,
   "id": "1f03fd49",
   "metadata": {},
   "outputs": [],
   "source": [
    "def solution(participant, completion):\n",
    "    participant.sort() # 정렬\n",
    "    completion.sort() # 정렬\n",
    "\n",
    "    for i in range(len(completion)):\n",
    "        if participant[i] != completion[i]:\n",
    "            return participant[i]\n",
    "    return participant[-1]"
   ]
  },
  {
   "cell_type": "code",
   "execution_count": 4,
   "id": "906f82ff",
   "metadata": {},
   "outputs": [
    {
     "data": {
      "text/plain": [
       "'leo'"
      ]
     },
     "execution_count": 4,
     "metadata": {},
     "output_type": "execute_result"
    }
   ],
   "source": [
    "participant = [\"leo\", \"kiki\", \"eden\"]\n",
    "completion = [\"eden\", \"kiki\"]\n",
    "\n",
    "solution(participant, completion)"
   ]
  },
  {
   "cell_type": "markdown",
   "id": "360af53a",
   "metadata": {},
   "source": [
    "#### 다른 사람의 풀이 - 1"
   ]
  },
  {
   "cell_type": "code",
   "execution_count": 5,
   "id": "6da527eb",
   "metadata": {},
   "outputs": [],
   "source": [
    "def solution(participant, completion):\n",
    "    answer = ''\n",
    "    temp = 0\n",
    "    dic = {}\n",
    "    for part in participant:\n",
    "        dic[hash(part)] = part\n",
    "        temp += int(hash(part))\n",
    "    for com in completion:\n",
    "        temp -= hash(com)\n",
    "    answer = dic[temp]\n",
    "    \n",
    "    return answer"
   ]
  },
  {
   "cell_type": "code",
   "execution_count": 6,
   "id": "425d3a3f",
   "metadata": {},
   "outputs": [
    {
     "data": {
      "text/plain": [
       "'leo'"
      ]
     },
     "execution_count": 6,
     "metadata": {},
     "output_type": "execute_result"
    }
   ],
   "source": [
    "participant = [\"leo\", \"kiki\", \"eden\"]\n",
    "completion = [\"eden\", \"kiki\"]\n",
    "\n",
    "solution(participant, completion)"
   ]
  },
  {
   "cell_type": "markdown",
   "id": "cd068853",
   "metadata": {},
   "source": [
    "### 전화번호 목록"
   ]
  },
  {
   "cell_type": "markdown",
   "id": "9ee359ef",
   "metadata": {},
   "source": [
    "```python\n",
    "# 예제1\n",
    "phone_book = [\"119\", \"97674223\", \"1195524421\"]\n",
    "answer = false\n",
    "\n",
    "# 예제2\n",
    "phone_book = [\"123\",\"456\",\"789\"]\n",
    "answer = true\n",
    "\n",
    "# 예제3\n",
    "phone_book = [\"12\",\"123\",\"1235\",\"567\",\"88\"]\n",
    "answer = false\n",
    "```"
   ]
  },
  {
   "cell_type": "markdown",
   "id": "5e310b26",
   "metadata": {},
   "source": [
    "#### 나의 풀이"
   ]
  },
  {
   "cell_type": "code",
   "execution_count": 7,
   "id": "27658e79",
   "metadata": {},
   "outputs": [],
   "source": [
    "def solution(phone_book):\n",
    "    phone_book.sort() # 정렬\n",
    "    for i in range(len(phone_book)-1):\n",
    "        x = phone_book[i]\n",
    "        if x in phone_book[i+1][:len(x)]:\n",
    "            return False\n",
    "    return True"
   ]
  },
  {
   "cell_type": "code",
   "execution_count": 8,
   "id": "7fb58875",
   "metadata": {},
   "outputs": [
    {
     "data": {
      "text/plain": [
       "False"
      ]
     },
     "execution_count": 8,
     "metadata": {},
     "output_type": "execute_result"
    }
   ],
   "source": [
    "phone_book = [\"119\", \"97674223\", \"1195524421\"]\n",
    "\n",
    "solution(phone_book)"
   ]
  },
  {
   "cell_type": "markdown",
   "id": "b3721d39",
   "metadata": {},
   "source": [
    "#### 다른 사람의 풀이 - 1"
   ]
  },
  {
   "cell_type": "code",
   "execution_count": 9,
   "id": "0219ed27",
   "metadata": {},
   "outputs": [],
   "source": [
    "def solution(phone_book):\n",
    "    phone_book.sort() # 정렬\n",
    "    for p1, p2 in zip(phone_book, phone_book[1:]):\n",
    "        if p2.startswith(p1):\n",
    "            return False\n",
    "    return True"
   ]
  },
  {
   "cell_type": "code",
   "execution_count": 10,
   "id": "a2138cf2",
   "metadata": {},
   "outputs": [
    {
     "data": {
      "text/plain": [
       "False"
      ]
     },
     "execution_count": 10,
     "metadata": {},
     "output_type": "execute_result"
    }
   ],
   "source": [
    "phone_book = [\"119\", \"97674223\", \"1195524421\"]\n",
    "\n",
    "solution(phone_book)"
   ]
  },
  {
   "cell_type": "markdown",
   "id": "1ae2ef21",
   "metadata": {},
   "source": [
    "#### 다른 사람의 풀이 - 2"
   ]
  },
  {
   "cell_type": "code",
   "execution_count": 11,
   "id": "cb3b29b9",
   "metadata": {},
   "outputs": [],
   "source": [
    "def solution(phone_book):\n",
    "    answer = True\n",
    "    hash_map = {}\n",
    "    for phone_number in phone_book:\n",
    "        hash_map[phone_number] = 1\n",
    "    for phone_number in phone_book:\n",
    "        temp = ''\n",
    "        for number in phone_number:\n",
    "            temp += number\n",
    "            if temp in hash_map and temp != phone_number:\n",
    "                answer = False\n",
    "    return answer"
   ]
  },
  {
   "cell_type": "code",
   "execution_count": 12,
   "id": "d5f507ba",
   "metadata": {},
   "outputs": [
    {
     "data": {
      "text/plain": [
       "False"
      ]
     },
     "execution_count": 12,
     "metadata": {},
     "output_type": "execute_result"
    }
   ],
   "source": [
    "phone_book = [\"119\", \"97674223\", \"1195524421\"]\n",
    "\n",
    "solution(phone_book)"
   ]
  },
  {
   "cell_type": "markdown",
   "id": "7b47abf2",
   "metadata": {},
   "source": [
    "### 의상"
   ]
  },
  {
   "cell_type": "markdown",
   "id": "12562e43",
   "metadata": {},
   "source": [
    "```python\n",
    "# 예제1\n",
    "clothes = [[\"yellow_hat\", \"headgear\"], [\"blue_sunglasses\", \"eyewear\"], [\"green_turban\", \"headgear\"]]\n",
    "answer = 5\n",
    "\n",
    "# 예제2\n",
    "clothes = [[\"crow_mask\", \"face\"], [\"blue_sunglasses\", \"face\"], [\"smoky_makeup\", \"face\"]]\n",
    "answer = 3\n",
    "```"
   ]
  },
  {
   "cell_type": "markdown",
   "id": "ec0dcea8",
   "metadata": {},
   "source": [
    "#### 나의 풀이"
   ]
  },
  {
   "cell_type": "code",
   "execution_count": 13,
   "id": "f749c6c8",
   "metadata": {},
   "outputs": [],
   "source": [
    "def solution(clothes):\n",
    "    dic = {}\n",
    "    for clothe, i in clothes:\n",
    "        dic[i] = dic.get(i, 0) + 1\n",
    "    \n",
    "    answer = 1\n",
    "    for v in dic.values():\n",
    "        answer *= v + 1\n",
    "\n",
    "    return answer - 1"
   ]
  },
  {
   "cell_type": "code",
   "execution_count": 14,
   "id": "b99b730f",
   "metadata": {},
   "outputs": [
    {
     "data": {
      "text/plain": [
       "5"
      ]
     },
     "execution_count": 14,
     "metadata": {},
     "output_type": "execute_result"
    }
   ],
   "source": [
    "clothes = [[\"yellow_hat\", \"headgear\"], [\"blue_sunglasses\", \"eyewear\"], [\"green_turban\", \"headgear\"]]\n",
    "\n",
    "solution(clothes)"
   ]
  },
  {
   "cell_type": "markdown",
   "id": "b6dad880",
   "metadata": {},
   "source": [
    "### 베스트앨범"
   ]
  },
  {
   "cell_type": "markdown",
   "id": "fd1eadb4",
   "metadata": {},
   "source": [
    "```python\n",
    "# 예제1\n",
    "genres = [\"classic\", \"pop\", \"classic\", \"classic\", \"pop\"]\n",
    "plays = [500, 600, 150, 800, 2500]\n",
    "answer = [4, 1, 3, 0]\n",
    "```"
   ]
  },
  {
   "cell_type": "markdown",
   "id": "a727840b",
   "metadata": {},
   "source": [
    "#### 나의 풀이"
   ]
  },
  {
   "cell_type": "code",
   "execution_count": 15,
   "id": "a0a7a9ea",
   "metadata": {},
   "outputs": [],
   "source": [
    "def solution(genres, plays):\n",
    "    genre_dic = {}\n",
    "    play_dic = {}\n",
    "    for i in range(len(genres)):\n",
    "        genre_dic[genres[i]] = genre_dic.get(genres[i], 0) + plays[i]\n",
    "        play_dic[genres[i]] = play_dic.get(genres[i], list()) + [(i, plays[i])]\n",
    "\n",
    "    genre_dic = sorted(genre_dic, key=lambda x: genre_dic[x], reverse=True) # 정렬\n",
    "\n",
    "    answer = []\n",
    "    for genre in genre_dic:\n",
    "        answer += [x for x, _ in sorted(play_dic[genre], key=lambda x: x[1], reverse=True)][:2]\n",
    "    \n",
    "    return answer"
   ]
  },
  {
   "cell_type": "code",
   "execution_count": 16,
   "id": "557f7b87",
   "metadata": {},
   "outputs": [
    {
     "data": {
      "text/plain": [
       "[4, 1, 3, 0]"
      ]
     },
     "execution_count": 16,
     "metadata": {},
     "output_type": "execute_result"
    }
   ],
   "source": [
    "genres = [\"classic\", \"pop\", \"classic\", \"classic\", \"pop\"]\n",
    "plays = [500, 600, 150, 800, 2500]\n",
    "\n",
    "solution(genres, plays)"
   ]
  }
 ],
 "metadata": {
  "kernelspec": {
   "display_name": "Python 3",
   "language": "python",
   "name": "python3"
  },
  "language_info": {
   "codemirror_mode": {
    "name": "ipython",
    "version": 3
   },
   "file_extension": ".py",
   "mimetype": "text/x-python",
   "name": "python",
   "nbconvert_exporter": "python",
   "pygments_lexer": "ipython3",
   "version": "3.8.8"
  }
 },
 "nbformat": 4,
 "nbformat_minor": 5
}
