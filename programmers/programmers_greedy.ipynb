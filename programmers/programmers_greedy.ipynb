{
 "cells": [
  {
   "cell_type": "markdown",
   "id": "f5baff60",
   "metadata": {},
   "source": [
    "# 탐욕법(Greedy)\n",
    "- 부분적인 최적해가 전체적인 최적해가 되는 마법!"
   ]
  },
  {
   "cell_type": "markdown",
   "id": "1ead5cf3",
   "metadata": {},
   "source": [
    "### 체육복"
   ]
  },
  {
   "cell_type": "markdown",
   "id": "c1328190",
   "metadata": {},
   "source": [
    "```python\n",
    "# 예제1\n",
    "n = 5\n",
    "lost = [2, 4]\n",
    "reserve = [1, 3, 5]\n",
    "answer = 5\n",
    "\n",
    "# 예제2\n",
    "n = 5\n",
    "lost = [2, 4]\n",
    "reserve = [3]\n",
    "answer = 4\n",
    "\n",
    "# 예제3\n",
    "n = 3\n",
    "lost = [3]\n",
    "reserve = [1]\n",
    "answer = 2\n",
    "```"
   ]
  },
  {
   "cell_type": "markdown",
   "id": "490d715d",
   "metadata": {},
   "source": [
    "#### 나의 풀이"
   ]
  },
  {
   "cell_type": "code",
   "execution_count": 1,
   "id": "c3899e60",
   "metadata": {},
   "outputs": [],
   "source": [
    "def solution(n, lost, reserve):\n",
    "    \"\"\"\n",
    "    n: 전체 학생의 수\n",
    "    lost: 체육복을 도난당한 학생들의 번호가 담긴 배열\n",
    "    reserve: 여벌의 체육복을 가져온 학생들의 번호가 담긴 배열\n",
    "    answer: 체육수업을 들을 수 있는 학생의 최댓값\n",
    "    \"\"\"\n",
    "    set_reserve = set(reserve) - set(lost)\n",
    "    set_lost = set(lost) - set(reserve)\n",
    "    \n",
    "    for i in set_reserve:\n",
    "        if i-1 in set_lost:\n",
    "            set_lost.remove(i-1)\n",
    "        elif i+1 in set_lost:\n",
    "            set_lost.remove(i+1)\n",
    "    \n",
    "    return n - len(set_lost)"
   ]
  },
  {
   "cell_type": "code",
   "execution_count": 2,
   "id": "e69bd7de",
   "metadata": {},
   "outputs": [
    {
     "data": {
      "text/plain": [
       "5"
      ]
     },
     "execution_count": 2,
     "metadata": {},
     "output_type": "execute_result"
    }
   ],
   "source": [
    "n = 5\n",
    "lost = [2, 4]\n",
    "reserve = [1, 3, 5]\n",
    "solution(n, lost, reserve)"
   ]
  },
  {
   "cell_type": "markdown",
   "id": "16d03f1f",
   "metadata": {},
   "source": [
    "### 조이스틱"
   ]
  },
  {
   "cell_type": "markdown",
   "id": "ba2b5eec",
   "metadata": {},
   "source": [
    "```python\n",
    "# 예제1\n",
    "name = \"JEROEN\"\n",
    "answer = 56\n",
    "\n",
    "# 예제2\n",
    "name = \"JAN\"\n",
    "answer = 23\n",
    "```"
   ]
  },
  {
   "cell_type": "markdown",
   "id": "204fb549",
   "metadata": {},
   "source": [
    "#### 나의 풀이"
   ]
  },
  {
   "cell_type": "code",
   "execution_count": 3,
   "id": "4f826a56",
   "metadata": {},
   "outputs": [],
   "source": [
    "def solution(name):\n",
    "    answer = 0 # 조이스틱 조작 횟수\n",
    "    \n",
    "    min_move = len(name) - 1 # 기본 최소 좌우이동 횟수\n",
    "    \n",
    "    for i, n in enumerate(name):\n",
    "        answer += min(ord(n) - ord('A'), ord('Z') - ord(n) + 1) # 상하이동 횟수 추가\n",
    "        \n",
    "        N = i + 1 # 해당 알파벳 다음부터 연속된 A 문자열 찾기\n",
    "        while N < len(name) and name[N] == 'A':\n",
    "            N += 1\n",
    "        \n",
    "        # [기존, 연속된 A의 왼쪽 시작 방식, 연속된 A의 오른쪽 시작 방식]\n",
    "        min_move = min([min_move, 2*i+len(name)-N, i+2*(len(name)-N)])\n",
    "    \n",
    "    answer += min_move # 좌우이동 횟수 추가\n",
    "    \n",
    "    return answer"
   ]
  },
  {
   "cell_type": "code",
   "execution_count": 4,
   "id": "1e4afc69",
   "metadata": {},
   "outputs": [
    {
     "data": {
      "text/plain": [
       "56"
      ]
     },
     "execution_count": 4,
     "metadata": {},
     "output_type": "execute_result"
    }
   ],
   "source": [
    "name = \"JEROEN\"\n",
    "\n",
    "solution(name)"
   ]
  },
  {
   "cell_type": "markdown",
   "id": "4093c990",
   "metadata": {},
   "source": [
    "### 큰 수 만들기"
   ]
  },
  {
   "cell_type": "markdown",
   "id": "097fcc52",
   "metadata": {},
   "source": [
    "```python\n",
    "# 예제1\n",
    "number = \"1924\"\n",
    "k = 2\n",
    "answer = \"94\"\n",
    "\n",
    "# 예제2\n",
    "number = \"1231234\"\n",
    "k = 3\n",
    "answer = \"3234\"\n",
    "\n",
    "# 예제3\n",
    "number = \"4177252841\"\n",
    "k = 4\n",
    "answer = \"775841\"\n",
    "```"
   ]
  },
  {
   "cell_type": "markdown",
   "id": "5cfc7fce",
   "metadata": {},
   "source": [
    "#### 나의 풀이"
   ]
  },
  {
   "cell_type": "code",
   "execution_count": 5,
   "id": "50bb9be3",
   "metadata": {},
   "outputs": [],
   "source": [
    "def solution(number, k):\n",
    "    answer = []\n",
    "    \n",
    "    for n in number:\n",
    "        while k > 0 and answer and answer[-1] < n:\n",
    "            answer.pop() # 마지막 원소 제거\n",
    "            k -= 1\n",
    "        answer.append(n)\n",
    "    \n",
    "    return ''.join(answer[:len(answer) - k])"
   ]
  },
  {
   "cell_type": "code",
   "execution_count": 6,
   "id": "3022ccd6",
   "metadata": {},
   "outputs": [
    {
     "data": {
      "text/plain": [
       "'775841'"
      ]
     },
     "execution_count": 6,
     "metadata": {},
     "output_type": "execute_result"
    }
   ],
   "source": [
    "number = \"4177252841\"\n",
    "k = 4\n",
    "\n",
    "solution(number, k)"
   ]
  },
  {
   "cell_type": "markdown",
   "id": "1a2ed76e",
   "metadata": {},
   "source": [
    "#### 다른 사람의 풀이 - 1"
   ]
  },
  {
   "cell_type": "code",
   "execution_count": 7,
   "id": "5aae20e4",
   "metadata": {},
   "outputs": [],
   "source": [
    "def solution(number, k):\n",
    "    stack = [number[0]]\n",
    "    \n",
    "    for num in number[1:]:\n",
    "        while len(stack) > 0 and stack[-1] < num and k > 0:\n",
    "            k -= 1\n",
    "            stack.pop()\n",
    "        stack.append(num)\n",
    "    \n",
    "    if k != 0:\n",
    "        stack = stack[:-k]\n",
    "    \n",
    "    return ''.join(stack)"
   ]
  },
  {
   "cell_type": "code",
   "execution_count": 8,
   "id": "587ed9d1",
   "metadata": {},
   "outputs": [
    {
     "data": {
      "text/plain": [
       "'775841'"
      ]
     },
     "execution_count": 8,
     "metadata": {},
     "output_type": "execute_result"
    }
   ],
   "source": [
    "number = \"4177252841\"\n",
    "k = 4\n",
    "\n",
    "solution(number, k)"
   ]
  },
  {
   "cell_type": "markdown",
   "id": "553b54f9",
   "metadata": {},
   "source": [
    "### 구명보트"
   ]
  },
  {
   "cell_type": "markdown",
   "id": "611d4e50",
   "metadata": {},
   "source": [
    "```python\n",
    "# 예제1\n",
    "people = [70, 50, 80, 50]\n",
    "limit = 100\n",
    "answer = 3\n",
    "\n",
    "# 예제2\n",
    "people = [70, 80, 50]\n",
    "limit = 100\n",
    "answer = 3\n",
    "```"
   ]
  },
  {
   "cell_type": "markdown",
   "id": "ceb63dba",
   "metadata": {},
   "source": [
    "#### 나의 풀이"
   ]
  },
  {
   "cell_type": "code",
   "execution_count": 9,
   "id": "5e1eeac3",
   "metadata": {},
   "outputs": [],
   "source": [
    "def solution(people, limit):\n",
    "    answer = 0\n",
    "    people.sort(reverse=True) # 정렬\n",
    "    \n",
    "    i = 0\n",
    "    j = len(people) - 1\n",
    "    while j > i:\n",
    "        if people[i] + people[j] <= limit:\n",
    "            j -=  1\n",
    "            answer += 1\n",
    "        i += 1\n",
    "\n",
    "    return len(people) - answer"
   ]
  },
  {
   "cell_type": "code",
   "execution_count": 10,
   "id": "47f317cc",
   "metadata": {},
   "outputs": [
    {
     "data": {
      "text/plain": [
       "3"
      ]
     },
     "execution_count": 10,
     "metadata": {},
     "output_type": "execute_result"
    }
   ],
   "source": [
    "people = [70, 50, 80, 50]\n",
    "limit = 100\n",
    "\n",
    "solution(people, limit)"
   ]
  },
  {
   "cell_type": "markdown",
   "id": "c212d854",
   "metadata": {},
   "source": [
    "#### 다른 사람의 풀이 - 1"
   ]
  },
  {
   "cell_type": "code",
   "execution_count": 11,
   "id": "f8c7f87e",
   "metadata": {},
   "outputs": [],
   "source": [
    "def solution(people, limit) :\n",
    "    answer = 0\n",
    "    people.sort()\n",
    "\n",
    "    a = 0\n",
    "    b = len(people) - 1\n",
    "    while a < b :\n",
    "        if people[b] + people[a] <= limit :\n",
    "            a += 1\n",
    "            answer += 1\n",
    "        b -= 1\n",
    "    \n",
    "    return len(people) - answer"
   ]
  },
  {
   "cell_type": "code",
   "execution_count": 12,
   "id": "c7dc1951",
   "metadata": {},
   "outputs": [
    {
     "data": {
      "text/plain": [
       "3"
      ]
     },
     "execution_count": 12,
     "metadata": {},
     "output_type": "execute_result"
    }
   ],
   "source": [
    "people = [70, 50, 80, 50]\n",
    "limit = 100\n",
    "\n",
    "solution(people, limit)"
   ]
  },
  {
   "cell_type": "markdown",
   "id": "95cb5b8e",
   "metadata": {},
   "source": [
    "### 섬 연결하기"
   ]
  },
  {
   "cell_type": "markdown",
   "id": "b917dcca",
   "metadata": {},
   "source": [
    "```python\n",
    "# 예제1\n",
    "n = 4\n",
    "costs = [[0,1,1],[0,2,2],[1,2,5],[1,3,1],[2,3,8]]\n",
    "answer = 4\n",
    "```"
   ]
  },
  {
   "cell_type": "markdown",
   "id": "5844ec84",
   "metadata": {},
   "source": [
    "#### 나의 풀이\n",
    "- 크루스칼 알고리즘(Kruskal Algorithm)"
   ]
  },
  {
   "cell_type": "code",
   "execution_count": 13,
   "id": "78bb6955",
   "metadata": {},
   "outputs": [],
   "source": [
    "def solution(n, costs):\n",
    "    answer = 0\n",
    "    costs.sort(key=lambda x: x[2]) # 두 섬을 연결하는 다리를 건설할 때 드는 비용을 기준으로 정렬\n",
    "    link = set([costs[0][0]])\n",
    "    \n",
    "    while len(link) != n:\n",
    "        for cost in costs:\n",
    "            if cost[0] in link and cost[1] in link:\n",
    "                continue\n",
    "            if cost[0] in link or cost[1] in link:\n",
    "                link.update([cost[0], cost[1]])\n",
    "                answer += cost[2]\n",
    "                break\n",
    "\n",
    "    return answer"
   ]
  },
  {
   "cell_type": "code",
   "execution_count": 14,
   "id": "a508ef90",
   "metadata": {},
   "outputs": [
    {
     "data": {
      "text/plain": [
       "4"
      ]
     },
     "execution_count": 14,
     "metadata": {},
     "output_type": "execute_result"
    }
   ],
   "source": [
    "n = 4\n",
    "costs = [[0,1,1],[0,2,2],[1,2,5],[1,3,1],[2,3,8]]\n",
    "\n",
    "solution(n, costs)"
   ]
  },
  {
   "cell_type": "markdown",
   "id": "a1a1483b",
   "metadata": {},
   "source": [
    "#### 다른 사람의 풀이 - 1"
   ]
  },
  {
   "cell_type": "code",
   "execution_count": 15,
   "id": "674760ba",
   "metadata": {},
   "outputs": [],
   "source": [
    "def ancestor(node, parents):\n",
    "    if parents[node] == node:\n",
    "        return node\n",
    "    else:\n",
    "        return ancestor(parents[node], parents)\n",
    "\n",
    "def solution(n, costs):\n",
    "    answer = 0\n",
    "    edges = sorted([(x[2], x[0], x[1]) for x in costs])\n",
    "    parents = [i for i in range(n)]\n",
    "    bridges = 0\n",
    "\n",
    "    for w, f, t in edges:\n",
    "        if ancestor(f, parents) != ancestor(t, parents):\n",
    "            answer += w\n",
    "            parents[ancestor(f, parents)] = t\n",
    "            bridges += 1\n",
    "        if bridges == n - 1:\n",
    "            break\n",
    "\n",
    "    return answer"
   ]
  },
  {
   "cell_type": "code",
   "execution_count": 16,
   "id": "6d22c1d2",
   "metadata": {},
   "outputs": [
    {
     "data": {
      "text/plain": [
       "4"
      ]
     },
     "execution_count": 16,
     "metadata": {},
     "output_type": "execute_result"
    }
   ],
   "source": [
    "n = 4\n",
    "costs = [[0,1,1],[0,2,2],[1,2,5],[1,3,1],[2,3,8]]\n",
    "\n",
    "solution(n, costs)"
   ]
  },
  {
   "cell_type": "markdown",
   "id": "5d2512b1",
   "metadata": {},
   "source": [
    "### 단속카메라"
   ]
  },
  {
   "cell_type": "markdown",
   "id": "2e3aa60b",
   "metadata": {},
   "source": [
    "```python\n",
    "# 예제1\n",
    "routes = [[-20,-15], [-14,-5], [-18,-13], [-5,-3]]\n",
    "answer = 2\n",
    "```"
   ]
  },
  {
   "cell_type": "code",
   "execution_count": 17,
   "id": "92ee4e27",
   "metadata": {},
   "outputs": [],
   "source": [
    "def solution(routes):\n",
    "    answer = 0\n",
    "    \n",
    "    routes.sort(key=lambda x: x[1]) # 차량이 고속도로에서 나간 지점을 기준으로 정렬\n",
    "    camera = -30001 # 카메라 지점 \n",
    "    \n",
    "    for route in routes:\n",
    "        if camera < route[0]:\n",
    "            answer += 1\n",
    "            camera = route[1]\n",
    "\n",
    "    return answer"
   ]
  },
  {
   "cell_type": "code",
   "execution_count": 18,
   "id": "b410d860",
   "metadata": {},
   "outputs": [
    {
     "data": {
      "text/plain": [
       "2"
      ]
     },
     "execution_count": 18,
     "metadata": {},
     "output_type": "execute_result"
    }
   ],
   "source": [
    "routes = [[-20,-15], [-14,-5], [-18,-13], [-5,-3]]\n",
    "\n",
    "solution(routes)"
   ]
  }
 ],
 "metadata": {
  "kernelspec": {
   "display_name": "Python 3",
   "language": "python",
   "name": "python3"
  },
  "language_info": {
   "codemirror_mode": {
    "name": "ipython",
    "version": 3
   },
   "file_extension": ".py",
   "mimetype": "text/x-python",
   "name": "python",
   "nbconvert_exporter": "python",
   "pygments_lexer": "ipython3",
   "version": "3.8.8"
  }
 },
 "nbformat": 4,
 "nbformat_minor": 5
}
