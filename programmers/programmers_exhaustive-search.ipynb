{
 "cells": [
  {
   "cell_type": "markdown",
   "id": "7899fb08",
   "metadata": {},
   "source": [
    "# 완전탐색\n",
    "- 무식해 보여도 사실은 최고의 방법일 때가 있지요."
   ]
  },
  {
   "cell_type": "markdown",
   "id": "fe99cd31",
   "metadata": {},
   "source": [
    "### 최소직사각형 "
   ]
  },
  {
   "cell_type": "markdown",
   "id": "2d0d4a34",
   "metadata": {},
   "source": [
    "```python\n",
    "# 예제1\n",
    "sizes = [[60, 50], [30, 70], [60, 30], [80, 40]]\n",
    "answer = 4000\n",
    "\n",
    "# 예제2\n",
    "sizes = [[10, 7], [12, 3], [8, 15], [14, 7], [5, 15]]\n",
    "answer = 120\n",
    "\n",
    "# 예제3\n",
    "sizes = [[14, 4], [19, 6], [6, 16], [18, 7], [7, 11]]\n",
    "answer = 133\n",
    "```"
   ]
  },
  {
   "cell_type": "markdown",
   "id": "f51fc7c3",
   "metadata": {},
   "source": [
    "#### 나의 풀이"
   ]
  },
  {
   "cell_type": "code",
   "execution_count": 1,
   "id": "f1cd6d97",
   "metadata": {},
   "outputs": [],
   "source": [
    "def solution(sizes):\n",
    "    w_max = 0\n",
    "    h_max = 0\n",
    "\n",
    "    for w, h in sizes:\n",
    "        if w < h:\n",
    "            w, h = h, w\n",
    "        w_max = max(w_max, w)\n",
    "        h_max = max(h_max, h)\n",
    "    \n",
    "    return w_max * h_max"
   ]
  },
  {
   "cell_type": "code",
   "execution_count": 2,
   "id": "c4e82bfd",
   "metadata": {},
   "outputs": [
    {
     "data": {
      "text/plain": [
       "4000"
      ]
     },
     "execution_count": 2,
     "metadata": {},
     "output_type": "execute_result"
    }
   ],
   "source": [
    "sizes = [[60, 50], [30, 70], [60, 30], [80, 40]]\n",
    "\n",
    "solution(sizes)"
   ]
  },
  {
   "cell_type": "markdown",
   "id": "d9e60662",
   "metadata": {},
   "source": [
    "### 모의고사"
   ]
  },
  {
   "cell_type": "markdown",
   "id": "282a235d",
   "metadata": {},
   "source": [
    "```python\n",
    "# 예제1\n",
    "answers = [1,2,3,4,5]\n",
    "answer = [1]\n",
    "\n",
    "# 예제2\n",
    "answers = [1,3,2,4,2]\n",
    "answer = [1,2,3]\n",
    "```"
   ]
  },
  {
   "cell_type": "markdown",
   "id": "a59eeedb",
   "metadata": {},
   "source": [
    "#### 나의 풀이"
   ]
  },
  {
   "cell_type": "code",
   "execution_count": 3,
   "id": "c8b826eb",
   "metadata": {},
   "outputs": [],
   "source": [
    "def solution(answers):\n",
    "    answer = []\n",
    "    \n",
    "    num1 = [1, 2, 3, 4, 5] # 1번 수포자가 찍는 방식\n",
    "    num2 = [2, 1, 2, 3, 2, 4, 2, 5] # 2번 수포자가 찍는 방식\n",
    "    num3 = [3, 3, 1, 1, 2, 2, 4, 4, 5, 5] # 3번 수포자가 찍는 방식\n",
    "\n",
    "    l = len(answers) # 시험 문제 개수\n",
    "    num1 = num1 * (l // 5 + 1)\n",
    "    num2 = num2 * (l // 8 + 1)\n",
    "    num3 = num3 * (l // 10 + 1)\n",
    "\n",
    "    a = sum([1 if i==j else 0 for i, j in zip(answers, num1)])\n",
    "    b = sum([1 if i==j else 0 for i, j in zip(answers, num2)])\n",
    "    c = sum([1 if i==j else 0 for i, j in zip(answers, num3)])\n",
    "    \n",
    "    m = max(a, b, c)\n",
    "\n",
    "    if m == a:\n",
    "        answer.append(1)\n",
    "    if m == b:\n",
    "        answer.append(2)\n",
    "    if m == c:\n",
    "        answer.append(3)\n",
    "\n",
    "    return answer"
   ]
  },
  {
   "cell_type": "code",
   "execution_count": 4,
   "id": "36e1ccfb",
   "metadata": {},
   "outputs": [
    {
     "data": {
      "text/plain": [
       "[1, 2, 3]"
      ]
     },
     "execution_count": 4,
     "metadata": {},
     "output_type": "execute_result"
    }
   ],
   "source": [
    "answers = [1,3,2,4,2]\n",
    "\n",
    "solution(answers)"
   ]
  },
  {
   "cell_type": "markdown",
   "id": "d65939d8",
   "metadata": {},
   "source": [
    "#### 다른 사람의 풀이 - 1"
   ]
  },
  {
   "cell_type": "code",
   "execution_count": 5,
   "id": "28272643",
   "metadata": {},
   "outputs": [],
   "source": [
    "def solution(answers):\n",
    "    result = []\n",
    "    scores = [0, 0, 0]\n",
    "    pattern1 = [1,2,3,4,5]\n",
    "    pattern2 = [2,1,2,3,2,4,2,5]\n",
    "    pattern3 = [3,3,1,1,2,2,4,4,5,5]\n",
    "    \n",
    "    for idx, answer in enumerate(answers):\n",
    "        if answer == pattern1[idx%len(pattern1)]:\n",
    "            scores[0] += 1\n",
    "        if answer == pattern2[idx%len(pattern2)]:\n",
    "            scores[1] += 1\n",
    "        if answer == pattern3[idx%len(pattern3)]:\n",
    "            scores[2] += 1\n",
    "    \n",
    "    for idx, score in enumerate(scores):\n",
    "        if score == max(scores):\n",
    "            result.append(idx + 1)\n",
    "    \n",
    "    return result"
   ]
  },
  {
   "cell_type": "code",
   "execution_count": 6,
   "id": "4022fd47",
   "metadata": {},
   "outputs": [
    {
     "data": {
      "text/plain": [
       "[1, 2, 3]"
      ]
     },
     "execution_count": 6,
     "metadata": {},
     "output_type": "execute_result"
    }
   ],
   "source": [
    "answers = [1,3,2,4,2]\n",
    "\n",
    "solution(answers)"
   ]
  },
  {
   "cell_type": "markdown",
   "id": "a7fb638c",
   "metadata": {},
   "source": [
    "### 소수 찾기"
   ]
  },
  {
   "cell_type": "markdown",
   "id": "052b6ee5",
   "metadata": {},
   "source": [
    "```python\n",
    "# 예제1\n",
    "numbers = \"17\"\n",
    "answer = 3\n",
    "\n",
    "# 예제2\n",
    "numbers = \"011\"\n",
    "answer = 2\n",
    "```"
   ]
  },
  {
   "cell_type": "markdown",
   "id": "f6d3731e",
   "metadata": {},
   "source": [
    "#### 나의 풀이"
   ]
  },
  {
   "cell_type": "code",
   "execution_count": 7,
   "id": "00dbb63c",
   "metadata": {},
   "outputs": [],
   "source": [
    "from itertools import permutations\n",
    "\n",
    "def solution(numbers):\n",
    "    answer = 0\n",
    "\n",
    "    # 가능한 모든 숫자 리스트\n",
    "    numbers = list(numbers)\n",
    "    temp = []\n",
    "    for i in range(1, len(numbers) + 1):\n",
    "        temp += list(permutations(numbers, i))\n",
    "    num = list(set([int(''.join(t)) for t in temp]))\n",
    "\n",
    "    # 소수 체크\n",
    "    for n in num:\n",
    "        if n < 2:\n",
    "            continue\n",
    "        check = True\n",
    "        for div in range(2, int(n**0.5) + 1):\n",
    "            if n % div == 0:\n",
    "                check = False\n",
    "                break\n",
    "        if check:\n",
    "            answer += 1\n",
    "    \n",
    "    return answer"
   ]
  },
  {
   "cell_type": "code",
   "execution_count": 8,
   "id": "34dd01ed",
   "metadata": {},
   "outputs": [
    {
     "data": {
      "text/plain": [
       "3"
      ]
     },
     "execution_count": 8,
     "metadata": {},
     "output_type": "execute_result"
    }
   ],
   "source": [
    "numbers = \"17\"\n",
    "\n",
    "solution(numbers)"
   ]
  },
  {
   "cell_type": "markdown",
   "id": "ff79493b",
   "metadata": {},
   "source": [
    "### 카펫"
   ]
  },
  {
   "cell_type": "markdown",
   "id": "89edc0a9",
   "metadata": {},
   "source": [
    "```python\n",
    "# 예제1\n",
    "brown = 10\n",
    "yellow = 2\n",
    "answer = [4, 3]\n",
    "\n",
    "# 예제2\n",
    "brown = 8\n",
    "yellow = 1\n",
    "answer = [3, 3]\n",
    "\n",
    "# 예제3\n",
    "brown = 24\n",
    "yellow = 24\n",
    "answer = [8, 6]\n",
    "```"
   ]
  },
  {
   "cell_type": "markdown",
   "id": "e5a7d9e4",
   "metadata": {},
   "source": [
    "#### 나의 풀이"
   ]
  },
  {
   "cell_type": "code",
   "execution_count": 9,
   "id": "07ee7b2c",
   "metadata": {},
   "outputs": [],
   "source": [
    "def solution(brown, yellow):\n",
    "    block = brown + yellow\n",
    "    \n",
    "    for i in range(1, block + 1):\n",
    "        if block % i == 0:\n",
    "            j = block // i # i: 가로, j: 세로\n",
    "            if (i >= j) and (i*2+j*2-4 == brown): # 가로 길이는 세로 길이와 같거나 길다\n",
    "                return [i, j]"
   ]
  },
  {
   "cell_type": "code",
   "execution_count": 10,
   "id": "d97aca60",
   "metadata": {},
   "outputs": [
    {
     "data": {
      "text/plain": [
       "[4, 3]"
      ]
     },
     "execution_count": 10,
     "metadata": {},
     "output_type": "execute_result"
    }
   ],
   "source": [
    "brown = 10\n",
    "yellow = 2\n",
    "\n",
    "solution(brown, yellow)"
   ]
  },
  {
   "cell_type": "markdown",
   "id": "e1fc9721",
   "metadata": {},
   "source": [
    "#### 다른 사람의 풀이 - 1"
   ]
  },
  {
   "cell_type": "code",
   "execution_count": 11,
   "id": "0b536ca4",
   "metadata": {},
   "outputs": [],
   "source": [
    "def solution(brown, yellow):\n",
    "    for i in range(1, int(yellow**(1/2))+1):\n",
    "        if yellow % i == 0:\n",
    "            if 2*(i + yellow//i) == brown-4:\n",
    "                return [yellow//i+2, i+2]"
   ]
  },
  {
   "cell_type": "code",
   "execution_count": 12,
   "id": "7f16bb3e",
   "metadata": {},
   "outputs": [
    {
     "data": {
      "text/plain": [
       "[4, 3]"
      ]
     },
     "execution_count": 12,
     "metadata": {},
     "output_type": "execute_result"
    }
   ],
   "source": [
    "brown = 10\n",
    "yellow = 2\n",
    "\n",
    "solution(brown, yellow)"
   ]
  },
  {
   "cell_type": "markdown",
   "id": "57a829d3",
   "metadata": {},
   "source": [
    "### 피로도"
   ]
  },
  {
   "cell_type": "markdown",
   "id": "712d6157",
   "metadata": {},
   "source": [
    "```python\n",
    "# 예제1\n",
    "k = 80\n",
    "dungeons = [[80,20],[50,40],[30,10]]\n",
    "answer = 3\n",
    "```"
   ]
  },
  {
   "cell_type": "markdown",
   "id": "f2b52093",
   "metadata": {},
   "source": [
    "#### 나의 풀이"
   ]
  },
  {
   "cell_type": "code",
   "execution_count": 13,
   "id": "e3123cd1",
   "metadata": {},
   "outputs": [],
   "source": [
    "from itertools import permutations\n",
    "\n",
    "def solution(k, dungeons):\n",
    "    answer = -1\n",
    "\n",
    "    dungeons_list = list(permutations(dungeons, len(dungeons)))\n",
    "\n",
    "    for dungeons in dungeons_list:\n",
    "        cur = k\n",
    "        cnt = 0\n",
    "        for i, j in dungeons:\n",
    "            if cur >= i:\n",
    "                cur = cur - j # 현재 피로도 - 소모 피로도\n",
    "                cnt += 1\n",
    "            else:\n",
    "                break\n",
    "        \n",
    "        if cnt > answer:\n",
    "            answer = cnt\n",
    "    return answer"
   ]
  },
  {
   "cell_type": "code",
   "execution_count": 14,
   "id": "37a5b25f",
   "metadata": {},
   "outputs": [
    {
     "data": {
      "text/plain": [
       "3"
      ]
     },
     "execution_count": 14,
     "metadata": {},
     "output_type": "execute_result"
    }
   ],
   "source": [
    "k = 80\n",
    "dungeons = [[80,20],[50,40],[30,10]]\n",
    "\n",
    "solution(k, dungeons)"
   ]
  },
  {
   "cell_type": "markdown",
   "id": "de0e9fdc",
   "metadata": {},
   "source": [
    "### 전력망을 둘로 나누기"
   ]
  },
  {
   "cell_type": "markdown",
   "id": "5bdcdec6",
   "metadata": {},
   "source": [
    "```python\n",
    "# 예제1\n",
    "n = 9\n",
    "wires = [[1,3],[2,3],[3,4],[4,5],[4,6],[4,7],[7,8],[7,9]]\n",
    "answer = 3\n",
    "\n",
    "# 예제2\n",
    "n = 4\n",
    "wires = [[1,2],[2,3],[3,4]]\n",
    "answer = 0\n",
    "\n",
    "# 예제3\n",
    "n = 7\n",
    "wires = [[1,2],[2,7],[3,7],[3,4],[4,5],[6,7]]\n",
    "answer = 1\n",
    "```"
   ]
  },
  {
   "cell_type": "markdown",
   "id": "fabb3899",
   "metadata": {},
   "source": [
    "#### 나의 풀이"
   ]
  },
  {
   "cell_type": "code",
   "execution_count": 15,
   "id": "c50200a4",
   "metadata": {},
   "outputs": [],
   "source": [
    "from collections import deque\n",
    "\n",
    "def solution(n, wires):\n",
    "    answer = 1e9\n",
    "    graph = [[] for _ in range(n + 1)]\n",
    "    \n",
    "    for a, b in wires:\n",
    "        graph[a].append(b)\n",
    "        graph[b].append(a)\n",
    "\n",
    "    for node1, node2 in wires:\n",
    "        visited = [False] * (n + 1)\n",
    "        queue = deque()\n",
    "        queue.append(node1)\n",
    "        \n",
    "        cnt = 1\n",
    "        visited[node1] = True\n",
    "        visited[node2] = True\n",
    "        \n",
    "        while queue:\n",
    "            node = queue.popleft()\n",
    "            for i in graph[node]:\n",
    "                if not visited[i]:\n",
    "                    cnt += 1\n",
    "                    visited[i] = True\n",
    "                    queue.append(i)\n",
    "        \n",
    "        min_v = min(cnt, n - cnt)\n",
    "        max_v = n - min_v\n",
    "        if answer > max_v - min_v:\n",
    "            answer = max_v - min_v\n",
    "\n",
    "    return answer"
   ]
  },
  {
   "cell_type": "code",
   "execution_count": 16,
   "id": "94bc0044",
   "metadata": {},
   "outputs": [
    {
     "data": {
      "text/plain": [
       "3"
      ]
     },
     "execution_count": 16,
     "metadata": {},
     "output_type": "execute_result"
    }
   ],
   "source": [
    "n = 9\n",
    "wires = [[1,3],[2,3],[3,4],[4,5],[4,6],[4,7],[7,8],[7,9]]\n",
    "\n",
    "solution(n, wires)"
   ]
  },
  {
   "cell_type": "markdown",
   "id": "0bda41af",
   "metadata": {},
   "source": [
    "#### 다른 사람의 풀이 - 1"
   ]
  },
  {
   "cell_type": "code",
   "execution_count": 17,
   "id": "b46fcf25",
   "metadata": {},
   "outputs": [],
   "source": [
    "def dfs(v, graph, visited):\n",
    "    visited[v] = True\n",
    "    return sum([1] + [dfs(u, graph, visited) for u in graph[v] if not visited[u]])\n",
    "\n",
    "def solution(n, wires):\n",
    "    graph = [[] for _ in range(n+1)]\n",
    "    for v, u in wires:\n",
    "        graph[v].append(u)\n",
    "        graph[u].append(v)\n",
    "\n",
    "    answer = 1e9\n",
    "    for i in range(n-1):\n",
    "        visited = [False for _ in range(n+1)]\n",
    "        v1, v2 = wires[i]\n",
    "        visited[v2] = True\n",
    "        tmp = abs(dfs(v1, graph, visited) - dfs(v2, graph, visited))\n",
    "        answer = min(tmp, answer)\n",
    "\n",
    "    return answer"
   ]
  },
  {
   "cell_type": "code",
   "execution_count": 18,
   "id": "62c72f9a",
   "metadata": {},
   "outputs": [
    {
     "data": {
      "text/plain": [
       "3"
      ]
     },
     "execution_count": 18,
     "metadata": {},
     "output_type": "execute_result"
    }
   ],
   "source": [
    "n = 9\n",
    "wires = [[1,3],[2,3],[3,4],[4,5],[4,6],[4,7],[7,8],[7,9]]\n",
    "\n",
    "solution(n, wires)"
   ]
  },
  {
   "cell_type": "markdown",
   "id": "1a5b80bf",
   "metadata": {},
   "source": [
    "### 모음사전"
   ]
  },
  {
   "cell_type": "markdown",
   "id": "7c27ead8",
   "metadata": {},
   "source": [
    "```python\n",
    "# 예제1\n",
    "word = \"AAAAE\"\n",
    "answer = 6\n",
    "\n",
    "# 예제2\n",
    "word = \"AAAE\"\n",
    "answer = 10\n",
    "\n",
    "# 예제3\n",
    "word = \"I\"\n",
    "answer = 1563\n",
    "\n",
    "# 예제4\n",
    "word = \"EIO\"\n",
    "answer = 1189\n",
    "```"
   ]
  },
  {
   "cell_type": "markdown",
   "id": "98f5116e",
   "metadata": {},
   "source": [
    "#### 나의 풀이"
   ]
  },
  {
   "cell_type": "code",
   "execution_count": 19,
   "id": "3f7f54ef",
   "metadata": {},
   "outputs": [],
   "source": [
    "from itertools import product\n",
    "\n",
    "def solution(word):\n",
    "    words = []\n",
    "    for i in range(1, 6):\n",
    "        for j in product(['A', 'E', 'I', 'O', 'U'], repeat=i):\n",
    "            words.append(''.join(list(j)))\n",
    "    words.sort() # 정렬\n",
    "    \n",
    "    return words.index(word) + 1"
   ]
  },
  {
   "cell_type": "code",
   "execution_count": 20,
   "id": "e5bb2c3d",
   "metadata": {},
   "outputs": [
    {
     "data": {
      "text/plain": [
       "6"
      ]
     },
     "execution_count": 20,
     "metadata": {},
     "output_type": "execute_result"
    }
   ],
   "source": [
    "word = \"AAAAE\"\n",
    "\n",
    "solution(word)"
   ]
  },
  {
   "cell_type": "markdown",
   "id": "667e4c22",
   "metadata": {},
   "source": [
    "#### 다른 사람의 풀이 - 1"
   ]
  },
  {
   "cell_type": "code",
   "execution_count": 21,
   "id": "12745df8",
   "metadata": {},
   "outputs": [],
   "source": [
    "def solution(word):\n",
    "    answer = 0\n",
    "    for i, n in enumerate(word):\n",
    "        answer += (5 ** (5 - i) - 1) / (5 - 1) * \"AEIOU\".index(n) + 1\n",
    "    \n",
    "    return int(answer)"
   ]
  },
  {
   "cell_type": "code",
   "execution_count": 22,
   "id": "635dfc54",
   "metadata": {},
   "outputs": [
    {
     "data": {
      "text/plain": [
       "6"
      ]
     },
     "execution_count": 22,
     "metadata": {},
     "output_type": "execute_result"
    }
   ],
   "source": [
    "word = \"AAAAE\"\n",
    "\n",
    "solution(word)"
   ]
  }
 ],
 "metadata": {
  "kernelspec": {
   "display_name": "Python 3",
   "language": "python",
   "name": "python3"
  },
  "language_info": {
   "codemirror_mode": {
    "name": "ipython",
    "version": 3
   },
   "file_extension": ".py",
   "mimetype": "text/x-python",
   "name": "python",
   "nbconvert_exporter": "python",
   "pygments_lexer": "ipython3",
   "version": "3.8.8"
  }
 },
 "nbformat": 4,
 "nbformat_minor": 5
}
