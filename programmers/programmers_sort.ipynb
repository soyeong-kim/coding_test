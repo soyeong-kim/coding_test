{
 "cells": [
  {
   "cell_type": "markdown",
   "id": "18237d16",
   "metadata": {},
   "source": [
    "# 정렬\n",
    "- 정렬을 이용해서 문제를 효율적으로 풀어보세요."
   ]
  },
  {
   "cell_type": "markdown",
   "id": "3e54978e",
   "metadata": {},
   "source": [
    "### K번째수"
   ]
  },
  {
   "cell_type": "markdown",
   "id": "ad029b3e",
   "metadata": {},
   "source": [
    "```python\n",
    "# 예제1\n",
    "array = [1, 5, 2, 6, 3, 7, 4]\n",
    "commands = [[2, 5, 3], [4, 4, 1], [1, 7, 3]]\n",
    "answer = [5, 6, 3]\n",
    "```"
   ]
  },
  {
   "cell_type": "markdown",
   "id": "78e64585",
   "metadata": {},
   "source": [
    "#### 나의 풀이"
   ]
  },
  {
   "cell_type": "code",
   "execution_count": 1,
   "id": "905d4e65",
   "metadata": {},
   "outputs": [],
   "source": [
    "def solution(array, commands):\n",
    "    answer = []\n",
    "    for command in commands:\n",
    "        answer.append(sorted(array[command[0]-1:command[1]])[command[2]-1])\n",
    "    return answer"
   ]
  },
  {
   "cell_type": "code",
   "execution_count": 2,
   "id": "d28695ad",
   "metadata": {},
   "outputs": [
    {
     "data": {
      "text/plain": [
       "[5, 6, 3]"
      ]
     },
     "execution_count": 2,
     "metadata": {},
     "output_type": "execute_result"
    }
   ],
   "source": [
    "array = [1, 5, 2, 6, 3, 7, 4]\n",
    "commands = [[2, 5, 3], [4, 4, 1], [1, 7, 3]]\n",
    "\n",
    "solution(array, commands)"
   ]
  },
  {
   "cell_type": "markdown",
   "id": "ab526589",
   "metadata": {},
   "source": [
    "### 가장 큰 수"
   ]
  },
  {
   "cell_type": "markdown",
   "id": "c40978c9",
   "metadata": {},
   "source": [
    "```python\n",
    "# 예제1\n",
    "numbers = [6, 10, 2]\n",
    "answer = \"6210\"\n",
    "\n",
    "# 예제2\n",
    "numbers = [3, 30, 34, 5, 9]\n",
    "answer = \"9534330\"\n",
    "```"
   ]
  },
  {
   "cell_type": "markdown",
   "id": "79caaee9",
   "metadata": {},
   "source": [
    "#### 나의 풀이"
   ]
  },
  {
   "cell_type": "code",
   "execution_count": 3,
   "id": "eb8121a1",
   "metadata": {},
   "outputs": [],
   "source": [
    "def solution(numbers):\n",
    "    numbers = list(map(str, numbers)) # 리스트의 원소를 str으로 변경\n",
    "    numbers.sort(key=lambda x: x*3, reverse=True) # 내림차순\n",
    "\n",
    "    return str(int(''.join(numbers))) # int를 통해 0을 제거 (예) [0, 0, 0] : '000'"
   ]
  },
  {
   "cell_type": "code",
   "execution_count": 4,
   "id": "8e566b33",
   "metadata": {},
   "outputs": [
    {
     "data": {
      "text/plain": [
       "'6210'"
      ]
     },
     "execution_count": 4,
     "metadata": {},
     "output_type": "execute_result"
    }
   ],
   "source": [
    "numbers = [6, 10, 2]\n",
    "\n",
    "solution(numbers)"
   ]
  },
  {
   "cell_type": "markdown",
   "id": "d1fd7e78",
   "metadata": {},
   "source": [
    "### H-Index"
   ]
  },
  {
   "cell_type": "markdown",
   "id": "3705a4ca",
   "metadata": {},
   "source": [
    "```python\n",
    "# 예제1\n",
    "citations = [3, 0, 6, 1, 5]\n",
    "answer = 3\n",
    "```"
   ]
  },
  {
   "cell_type": "markdown",
   "id": "767b41db",
   "metadata": {},
   "source": [
    "#### 나의 풀이"
   ]
  },
  {
   "cell_type": "code",
   "execution_count": 5,
   "id": "eae5abc5",
   "metadata": {},
   "outputs": [],
   "source": [
    "def solution(citations):\n",
    "    citations.sort(reverse=True)\n",
    "    for i, citation in enumerate(citations):\n",
    "        if i >= citation:\n",
    "            return i\n",
    "    return len(citations)"
   ]
  },
  {
   "cell_type": "code",
   "execution_count": 6,
   "id": "56c38c60",
   "metadata": {},
   "outputs": [
    {
     "data": {
      "text/plain": [
       "3"
      ]
     },
     "execution_count": 6,
     "metadata": {},
     "output_type": "execute_result"
    }
   ],
   "source": [
    "citations = [3, 0, 6, 1, 5]\n",
    "\n",
    "solution(citations)"
   ]
  }
 ],
 "metadata": {
  "kernelspec": {
   "display_name": "Python 3",
   "language": "python",
   "name": "python3"
  },
  "language_info": {
   "codemirror_mode": {
    "name": "ipython",
    "version": 3
   },
   "file_extension": ".py",
   "mimetype": "text/x-python",
   "name": "python",
   "nbconvert_exporter": "python",
   "pygments_lexer": "ipython3",
   "version": "3.8.8"
  }
 },
 "nbformat": 4,
 "nbformat_minor": 5
}
