{
 "cells": [
  {
   "cell_type": "markdown",
   "id": "73c585cd",
   "metadata": {},
   "source": [
    "### ✅ 팰린드롬수\n",
    "- 문제: https://www.acmicpc.net/problem/1259"
   ]
  },
  {
   "cell_type": "code",
   "execution_count": null,
   "id": "1e3bfff2",
   "metadata": {},
   "outputs": [],
   "source": [
    "import sys\n",
    "\n",
    "data = sys.stdin.read().splitlines()\n",
    "\n",
    "for d in data:\n",
    "    reverse_d = d[::-1]\n",
    "    if d == '0':\n",
    "        continue\n",
    "    elif d == reverse_d:\n",
    "        print('yes')\n",
    "    else:\n",
    "        print('no')"
   ]
  },
  {
   "cell_type": "markdown",
   "id": "04359fb4",
   "metadata": {},
   "source": [
    "### ✅ 최대공약수와 최소공배수\n",
    "- 문제: https://www.acmicpc.net/problem/2609"
   ]
  },
  {
   "cell_type": "code",
   "execution_count": null,
   "id": "043ae1e2",
   "metadata": {},
   "outputs": [],
   "source": [
    "a, b = map(int, input().split())\n",
    "original_a, original_b = a, b\n",
    "\n",
    "while True:\n",
    "    if a < b:\n",
    "        a, b = b, a\n",
    "    \n",
    "    r = a%b # 나머지\n",
    "    \n",
    "    if r!=0:\n",
    "        a, b = b, r\n",
    "    else:\n",
    "        gcd = b\n",
    "        print(gcd)\n",
    "        break\n",
    "\n",
    "lcm =int(original_a*original_b/gcd)\n",
    "print(lcm)"
   ]
  },
  {
   "cell_type": "markdown",
   "id": "8d34bd9a",
   "metadata": {},
   "source": [
    "### ✅ 이항 계수 1\n",
    "- 문제: https://www.acmicpc.net/problem/11050"
   ]
  },
  {
   "cell_type": "code",
   "execution_count": null,
   "id": "4600f262",
   "metadata": {},
   "outputs": [],
   "source": [
    "N, K = map(int, input().split())\n",
    "\n",
    "def factorial(x):\n",
    "    y = 1\n",
    "    for i in range(2, x+1):\n",
    "        y *= i\n",
    "    return y\n",
    "\n",
    "print(int(factorial(N)/(factorial(K)*factorial(N-K))))"
   ]
  },
  {
   "cell_type": "markdown",
   "id": "4b932fc0",
   "metadata": {},
   "source": [
    "### ✅ 랜선 자르기\n",
    "- 문제: https://www.acmicpc.net/problem/1654"
   ]
  },
  {
   "cell_type": "code",
   "execution_count": null,
   "id": "d9fef8ef",
   "metadata": {},
   "outputs": [],
   "source": [
    "K, N = map(int, input().split())\n",
    "lines = [int(input()) for _ in range(K)]\n",
    "start = 1 # 랜선의 최소 길이\n",
    "end = max(lines)\n",
    "\n",
    "target = 0\n",
    "while start <= end:\n",
    "    cnt = 0\n",
    "    mid = (start + end) // 2\n",
    "    for line in lines:\n",
    "        if line >= mid: # 만약 랜선의 길이가 mid보다 크거나 작으면\n",
    "            cnt += line // mid # 몇 개가 잘리는지\n",
    "    if cnt < N:\n",
    "        end = mid - 1 # 만약 랜선의 개수가 부족하다면 길이가 너무 긴 것임(끝점 조정)\n",
    "    else:\n",
    "        target = mid\n",
    "        start = mid + 1 # 만약 랜선의 개수가 넉넉하다면 최대 길이를 찾기 위해 길이를 더 늘려야 함(시작점 조정)\n",
    "\n",
    "print(target)"
   ]
  },
  {
   "cell_type": "markdown",
   "id": "4bbac774",
   "metadata": {},
   "source": [
    "### ✅ 벌집\n",
    "- 문제: https://www.acmicpc.net/problem/2292"
   ]
  },
  {
   "cell_type": "code",
   "execution_count": null,
   "id": "42ef0f37",
   "metadata": {},
   "outputs": [],
   "source": [
    "N = int(input())\n",
    "\n",
    "cnt = 1\n",
    "\n",
    "while N > 0:\n",
    "    if N==1:\n",
    "        break\n",
    "    else:\n",
    "        N = N-cnt*6\n",
    "        cnt += 1\n",
    "\n",
    "print(cnt)"
   ]
  },
  {
   "cell_type": "markdown",
   "id": "5b48e241",
   "metadata": {},
   "source": [
    "### ✅ ACM 호텔\n",
    "- 문제: https://www.acmicpc.net/problem/10250"
   ]
  },
  {
   "cell_type": "code",
   "execution_count": null,
   "id": "cbd43637",
   "metadata": {},
   "outputs": [],
   "source": [
    "T = int(input())\n",
    "\n",
    "for i in range(T):\n",
    "    H, W, N = map(int, input().split())\n",
    "    a, b = str(N%H), str(N//H+1)\n",
    "    \n",
    "    if a == '0':\n",
    "        a, b = str(H), str(N//H)\n",
    "    \n",
    "    if len(b) == 1:\n",
    "        print(a+'0'+b)\n",
    "    else:\n",
    "        print(a+b)"
   ]
  },
  {
   "cell_type": "markdown",
   "id": "fb7ba7de",
   "metadata": {},
   "source": [
    "### ✅ Hashing\n",
    "- 문제: https://www.acmicpc.net/problem/15829"
   ]
  },
  {
   "cell_type": "code",
   "execution_count": null,
   "id": "2f14e928",
   "metadata": {},
   "outputs": [],
   "source": [
    "L = int(input())\n",
    "string = input()\n",
    "M, r = 1234567891, 31\n",
    "\n",
    "alphabet_dic = {chr(96+i): i for i in range(1, 27)}\n",
    "\n",
    "answer = 0\n",
    "for i in range(L):\n",
    "    answer += alphabet_dic[string[i]]*r**i\n",
    "\n",
    "print(answer % M)"
   ]
  },
  {
   "cell_type": "markdown",
   "id": "d85a6088",
   "metadata": {},
   "source": [
    "### ✅ 단어 정렬\n",
    "- 문제: https://www.acmicpc.net/problem/1181"
   ]
  },
  {
   "cell_type": "code",
   "execution_count": null,
   "id": "a34628ee",
   "metadata": {},
   "outputs": [],
   "source": [
    "N = int(input())\n",
    "data = [input() for _ in range(N)]\n",
    "data_set = list(set(data))\n",
    "sorted_data = sorted(data_set, key = lambda x: (len(x), x))\n",
    "for i in sorted_data:\n",
    "    print(i)"
   ]
  }
 ],
 "metadata": {
  "kernelspec": {
   "display_name": "Python 3",
   "language": "python",
   "name": "python3"
  },
  "language_info": {
   "codemirror_mode": {
    "name": "ipython",
    "version": 3
   },
   "file_extension": ".py",
   "mimetype": "text/x-python",
   "name": "python",
   "nbconvert_exporter": "python",
   "pygments_lexer": "ipython3",
   "version": "3.8.8"
  }
 },
 "nbformat": 4,
 "nbformat_minor": 5
}
